{
 "cells": [
  {
   "cell_type": "markdown",
   "metadata": {},
   "source": [
    "# CH-OOD Deep Learning Experiments\\n",
    "\\n",
    "This notebook runs the deep OOD detection experiments for the paper:\\n",
    "**Certified Geometric OOD via Directional Depth and Kubota Projection Sketches**\\n",
    "\\n",
    "## Expected Runtime on T4 GPU\\n",
    "- **Total time**: ~45-60 minutes\\n",
    "  - Model training: ~20-25 minutes\\n",
    "  - Feature extraction: ~10-15 minutes\\n",
    "  - OOD evaluation: ~15-20 minutes\\n",
    "\\n",
    "## Experiments\\n",
    "- **ID Dataset**: CIFAR-10 (test set)\\n",
    "- **OOD Datasets**: SVHN, CIFAR-100\\n",
    "- **Methods**: CH-OOD (ours), Energy, ODIN, Mahalanobis\\n",
    "- **Metrics**: AUROC, FPR@95%TPR"
   ]
  },
  {
   "cell_type": "markdown",
   "metadata": {},
   "source": [
    "## 1. Setup Environment"
   ]
  },
  {
   "cell_type": "code",
   "execution_count": null,
   "metadata": {},
   "outputs": [],
   "source": [
    "# Check GPU availability\\n",
    "import torch\\n",
    "if torch.cuda.is_available():\\n",
    "    device = torch.device('cuda')\\n",
    "    print(f\\\"✓ GPU available: {torch.cuda.get_device_name(0)}\\\")\\n",
    "    print(f\\\"  Memory: {torch.cuda.get_device_properties(0).total_memory / 1e9:.2f} GB\\\")\\n",
    "else:\\n",
    "    print(\\\"⚠️ No GPU detected. Runtime will be slower.\\\")\\n",
    "    print(\\\"To enable GPU in Colab: Runtime → Change runtime type → Hardware accelerator → GPU (T4)\\\")"
   ]
  },
  {
   "cell_type": "markdown",
   "metadata": {},
   "source": [
    "## 2. Install Dependencies"
   ]
  },
  {
   "cell_type": "code",
   "execution_count": null,
   "metadata": {},
   "outputs": [],
   "source": [
    "# Install required packages (if not in Colab, these should already be available)\\n",
    "!pip install -q torch torchvision numpy scikit-learn matplotlib tqdm"
   ]
  },
  {
   "cell_type": "markdown",
   "metadata": {},
   "source": [
    "## 3. Download Experiment Code"
   ]
  },
  {
   "cell_type": "code",
   "execution_count": null,
   "metadata": {},
   "outputs": [],
   "source": [
    "# Download the experiment code from GitHub\\n",
    "!wget -q https://raw.githubusercontent.com/ashachar/ch-ood-experiments/main/ch_ood_colab.py\\n",
    "print(\\\"✓ Experiment code downloaded\\\")"
   ]
  },
  {
   "cell_type": "code",
   "execution_count": null,
   "metadata": {},
   "outputs": [],
   "source": [
    "# Import the experiment module\\n",
    "import ch_ood_colab\\n",
    "import importlib\\n",
    "importlib.reload(ch_ood_colab)  # Reload in case of updates\\n",
    "print(\\\"✓ Module imported successfully\\\")"
   ]
  },
  {
   "cell_type": "markdown",
   "metadata": {},
   "source": [
    "## 4. Setup Directories and Device"
   ]
  },
  {
   "cell_type": "code",
   "execution_count": null,
   "metadata": {},
   "outputs": [],
   "source": [
    "# Create necessary directories and return device\\n",
    "device = ch_ood_colab.setup_colab()\\n",
    "print(f\\\"✓ Setup complete. Using device: {device}\\\")"
   ]
  },
  {
   "cell_type": "markdown",
   "metadata": {},
   "source": [
    "## 5. Train ResNet-18 on CIFAR-10\\n",
    "\\n",
    "This step trains a ResNet-18 model on CIFAR-10 for 30 epochs.\\n",
    "- **Expected time**: ~20-25 minutes on T4 GPU\\n",
    "- **Skip this cell** if you want to use a pre-trained model"
   ]
  },
  {
   "cell_type": "code",
   "execution_count": null,
   "metadata": {},
   "outputs": [],
   "source": [
    "# Train the model (set train_model=False to skip and use pre-trained)\\n",
    "model = ch_ood_colab.train_resnet_cifar10(device, epochs=30)\\n",
    "print(\\\"\\\\n✓ Model training complete\\\")"
   ]
  },
  {
   "cell_type": "markdown",
   "metadata": {},
   "source": [
    "## 6. Load Datasets\\n",
    "\\n",
    "Load CIFAR-10 (ID) and OOD datasets (SVHN, CIFAR-100)"
   ]
  },
  {
   "cell_type": "code",
   "execution_count": null,
   "metadata": {},
   "outputs": [],
   "source": [
    "# Load all datasets\\n",
    "print(\\\"Loading datasets...\\\")\\n",
    "loaders = ch_ood_colab.load_datasets()\\n",
    "\\n",
    "print(\\\"\\\\n✓ Datasets loaded:\\\")\\n",
    "print(f\\\"  - ID: CIFAR-10 (test set: {len(loaders['id_test'].dataset)} samples)\\\")\\n",
    "print(f\\\"  - OOD: SVHN ({len(loaders['ood_svhn'].dataset)} samples)\\\")\\n",
    "print(f\\\"  - OOD: CIFAR-100 ({len(loaders['ood_cifar100'].dataset)} samples)\\\")"
   ]
  },
  {
   "cell_type": "markdown",
   "metadata": {},
   "source": [
    "## 7. Extract Features\\n",
    "\\n",
    "Extract penultimate layer features for OOD detection\\n",
    "- **Expected time**: ~10-15 minutes"
   ]
  },
  {
   "cell_type": "code",
   "execution_count": null,
   "metadata": {},
   "outputs": [],
   "source": [
    "# Load model if not already loaded\\n",
    "if 'model' not in locals():\\n",
    "    print(\\\"Loading pre-trained model...\\\")\\n",
    "    model = ch_ood_colab.load_model(device)\\n",
    "\\n",
    "# Extract features\\n",
    "print(\\\"Extracting features...\\\")\\n",
    "features = ch_ood_colab.extract_features(model, loaders, device)\\n",
    "\\n",
    "print(\\\"\\\\n✓ Features extracted:\\\")\\n",
    "for key, feat in features.items():\\n",
    "    print(f\\\"  - {key}: shape {feat.shape}\\\")"
   ]
  },
  {
   "cell_type": "markdown",
   "metadata": {},
   "source": [
    "## 8. Run OOD Detection Methods\\n",
    "\\n",
    "Evaluate multiple OOD detection methods:\\n",
    "- CH-OOD (our method)\\n",
    "- Energy-based\\n",
    "- ODIN\\n",
    "- Mahalanobis\\n",
    "\\n",
    "**Expected time**: ~15-20 minutes"
   ]
  },
  {
   "cell_type": "code",
   "execution_count": null,
   "metadata": {},
   "outputs": [],
   "source": [
    "# Run all OOD detection methods\\n",
    "print(\\\"Running OOD detection methods...\\\\n\\\")\\n",
    "results = ch_ood_colab.evaluate_ood_methods(features, device)\\n",
    "\\n",
    "# Display results summary\\n",
    "print(\\\"\\\\n\\\" + \\\"=\\\"*60)\\n",
    "print(\\\"OOD Detection Results (AUROC / FPR@95%)\\\")\\n",
    "print(\\\"=\\\"*60)\\n",
    "\\n",
    "for ood_name in ['SVHN', 'CIFAR-100']:\\n",
    "    print(f\\\"\\\\n{ood_name}:\\\")\\n",
    "    for method in results[ood_name]:\\n",
    "        auroc = results[ood_name][method]['auroc']\\n",
    "        fpr95 = results[ood_name][method]['fpr95']\\n",
    "        print(f\\\"  {method:15s}: AUROC={auroc:.3f}, FPR@95%={fpr95:.3f}\\\")"
   ]
  },
  {
   "cell_type": "markdown",
   "metadata": {},
   "source": [
    "## 9. Generate ROC Curves"
   ]
  },
  {
   "cell_type": "code",
   "execution_count": null,
   "metadata": {},
   "outputs": [],
   "source": [
    "# Plot ROC curves\\n",
    "import matplotlib.pyplot as plt\\n",
    "\\n",
    "fig, axes = plt.subplots(1, 2, figsize=(12, 5))\\n",
    "\\n",
    "for idx, ood_name in enumerate(['SVHN', 'CIFAR-100']):\\n",
    "    ax = axes[idx]\\n",
    "    \\n",
    "    for method in results[ood_name]:\\n",
    "        fpr = results[ood_name][method]['fpr']\\n",
    "        tpr = results[ood_name][method]['tpr']\\n",
    "        auroc = results[ood_name][method]['auroc']\\n",
    "        \\n",
    "        ax.plot(fpr, tpr, label=f\\\"{method} (AUROC={auroc:.3f})\\\")\\n",
    "    \\n",
    "    ax.plot([0, 1], [0, 1], 'k--', alpha=0.3)\\n",
    "    ax.set_xlabel('False Positive Rate')\\n",
    "    ax.set_ylabel('True Positive Rate')\\n",
    "    ax.set_title(f'CIFAR-10 (ID) vs {ood_name} (OOD)')\\n",
    "    ax.legend(loc='lower right')\\n",
    "    ax.grid(True, alpha=0.3)\\n",
    "\\n",
    "plt.tight_layout()\\n",
    "plt.show()"
   ]
  },
  {
   "cell_type": "markdown",
   "metadata": {},
   "source": [
    "## 10. Save Results"
   ]
  },
  {
   "cell_type": "code",
   "execution_count": null,
   "metadata": {},
   "outputs": [],
   "source": [
    "# Save results to JSON\\n",
    "import json\\n",
    "\\n",
    "# Prepare results for saving (remove numpy arrays)\\n",
    "save_results = {}\\n",
    "for ood_name in results:\\n",
    "    save_results[ood_name] = {}\\n",
    "    for method in results[ood_name]:\\n",
    "        save_results[ood_name][method] = {\\n",
    "            'auroc': float(results[ood_name][method]['auroc']),\\n",
    "            'fpr95': float(results[ood_name][method]['fpr95'])\\n",
    "        }\\n",
    "\\n",
    "with open('results/deep_ood_results.json', 'w') as f:\\n",
    "    json.dump(save_results, f, indent=2)\\n",
    "\\n",
    "print(\\\"✓ Results saved to results/deep_ood_results.json\\\")"
   ]
  },
  {
   "cell_type": "markdown",
   "metadata": {},
   "source": [
    "## 11. Create Summary Table"
   ]
  },
  {
   "cell_type": "code",
   "execution_count": null,
   "metadata": {},
   "outputs": [],
   "source": [
    "# Create a formatted summary table\\n",
    "import pandas as pd\\n",
    "\\n",
    "# Create DataFrame\\n",
    "data = []\\n",
    "for ood_name in save_results:\\n",
    "    for method in save_results[ood_name]:\\n",
    "        data.append({\\n",
    "            'OOD Dataset': ood_name,\\n",
    "            'Method': method,\\n",
    "            'AUROC': save_results[ood_name][method]['auroc'],\\n",
    "            'FPR@95%': save_results[ood_name][method]['fpr95']\\n",
    "        })\\n",
    "\\n",
    "df = pd.DataFrame(data)\\n",
    "\\n",
    "# Pivot tables for better visualization\\n",
    "print(\\\"\\\\n\\\" + \\\"=\\\"*50)\\n",
    "print(\\\"AUROC Results\\\")\\n",
    "print(\\\"=\\\"*50)\\n",
    "auroc_pivot = df.pivot(index='Method', columns='OOD Dataset', values='AUROC')\\n",
    "print(auroc_pivot.round(3))\\n",
    "\\n",
    "print(\\\"\\\\n\\\" + \\\"=\\\"*50)\\n",
    "print(\\\"FPR@95%TPR Results\\\")\\n",
    "print(\\\"=\\\"*50)\\n",
    "fpr_pivot = df.pivot(index='Method', columns='OOD Dataset', values='FPR@95%')\\n",
    "print(fpr_pivot.round(3))"
   ]
  },
  {
   "cell_type": "markdown",
   "metadata": {},
   "source": [
    "## 12. Generate Detailed Analysis Report\\n",
    "\\n",
    "Create a comprehensive report for analysis"
   ]
  },
  {
   "cell_type": "code",
   "execution_count": null,
   "metadata": {},
   "outputs": [],
   "source": [
    "# Generate comprehensive analysis report\\n",
    "from datetime import datetime\\n",
    "import numpy as np\\n",
    "\\n",
    "report = []\\n",
    "report.append(\\\"=\\\"*70)\\n",
    "report.append(\\\"CH-OOD EXPERIMENTAL RESULTS - DETAILED ANALYSIS REPORT\\\")\\n",
    "report.append(\\\"=\\\"*70)\\n",
    "report.append(f\\\"Generated: {datetime.now().strftime('%Y-%m-%d %H:%M:%S')}\\\")\\n",
    "report.append(f\\\"GPU: {torch.cuda.get_device_name(0) if torch.cuda.is_available() else 'CPU'}\\\")\\n",
    "report.append(\\\"\\\")\\n",
    "\\n",
    "# 1. Dataset Information\\n",
    "report.append(\\\"1. DATASET SUMMARY\\\")\\n",
    "report.append(\\\"-\\\" * 40)\\n",
    "report.append(f\\\"   ID Dataset: CIFAR-10\\\")\\n",
    "report.append(f\\\"   - Training samples: 50,000\\\")\\n",
    "report.append(f\\\"   - Test samples: {len(loaders['id_test'].dataset)}\\\")\\n",
    "report.append(f\\\"   - Classes: 10\\\")\\n",
    "report.append(f\\\"   - Image size: 32x32x3\\\")\\n",
    "report.append(\\\"\\\")\\n",
    "report.append(f\\\"   OOD Datasets:\\\")\\n",
    "report.append(f\\\"   - SVHN: {len(loaders['ood_svhn'].dataset)} samples\\\")\\n",
    "report.append(f\\\"   - CIFAR-100: {len(loaders['ood_cifar100'].dataset)} samples\\\")\\n",
    "report.append(\\\"\\\")\\n",
    "\\n",
    "# 2. Model Architecture\\n",
    "report.append(\\\"2. MODEL ARCHITECTURE\\\")\\n",
    "report.append(\\\"-\\\" * 40)\\n",
    "report.append(f\\\"   Architecture: ResNet-18 (CIFAR variant)\\\")\\n",
    "report.append(f\\\"   - Modified first conv: 3x3 (no maxpool)\\\")\\n",
    "report.append(f\\\"   - Feature dimension: 512\\\")\\n",
    "report.append(f\\\"   - Training epochs: 30\\\")\\n",
    "report.append(f\\\"   - Optimizer: SGD with momentum\\\")\\n",
    "report.append(f\\\"   - Learning rate schedule: MultiStep [15, 25]\\\")\\n",
    "report.append(\\\"\\\")\\n",
    "\\n",
    "# 3. Method-by-Method Results\\n",
    "report.append(\\\"3. DETAILED RESULTS BY METHOD\\\")\\n",
    "report.append(\\\"-\\\" * 40)\\n",
    "\\n",
    "for method in ['CH-OOD', 'Energy', 'ODIN', 'Mahalanobis']:\\n",
    "    report.append(f\\\"\\\\n   {method}:\\\")\\n",
    "    \\n",
    "    # Collect results across datasets\\n",
    "    aurocs = []\\n",
    "    fpr95s = []\\n",
    "    \\n",
    "    for ood_name in ['SVHN', 'CIFAR-100']:\\n",
    "        if method in results[ood_name]:\\n",
    "            auroc = results[ood_name][method]['auroc']\\n",
    "            fpr95 = results[ood_name][method]['fpr95']\\n",
    "            aurocs.append(auroc)\\n",
    "            fpr95s.append(fpr95)\\n",
    "            report.append(f\\\"   - vs {ood_name:12s}: AUROC={auroc:.4f}, FPR@95%={fpr95:.4f}\\\")\\n",
    "    \\n",
    "    if aurocs:\\n",
    "        report.append(f\\\"   - Average AUROC: {np.mean(aurocs):.4f} ± {np.std(aurocs):.4f}\\\")\\n",
    "        report.append(f\\\"   - Average FPR@95%: {np.mean(fpr95s):.4f} ± {np.std(fpr95s):.4f}\\\")\\n",
    "\\n",
    "report.append(\\\"\\\")\\n",
    "\\n",
    "# 4. Comparative Analysis\\n",
    "report.append(\\\"4. COMPARATIVE ANALYSIS\\\")\\n",
    "report.append(\\\"-\\\" * 40)\\n",
    "\\n",
    "# Best performer for each dataset\\n",
    "for ood_name in ['SVHN', 'CIFAR-100']:\\n",
    "    report.append(f\\\"\\\\n   {ood_name} Results:\\\")\\n",
    "    \\n",
    "    # Find best AUROC\\n",
    "    best_auroc_method = max(results[ood_name].keys(), \\n",
    "                            key=lambda m: results[ood_name][m]['auroc'])\\n",
    "    best_auroc = results[ood_name][best_auroc_method]['auroc']\\n",
    "    \\n",
    "    # Find best FPR@95\\n",
    "    best_fpr_method = min(results[ood_name].keys(), \\n",
    "                          key=lambda m: results[ood_name][m]['fpr95'])\\n",
    "    best_fpr = results[ood_name][best_fpr_method]['fpr95']\\n",
    "    \\n",
    "    report.append(f\\\"   - Best AUROC: {best_auroc_method} ({best_auroc:.4f})\\\")\\n",
    "    report.append(f\\\"   - Best FPR@95%: {best_fpr_method} ({best_fpr:.4f})\\\")\\n",
    "    \\n",
    "    # CH-OOD relative performance\\n",
    "    ch_auroc = results[ood_name]['CH-OOD']['auroc']\\n",
    "    ch_fpr = results[ood_name]['CH-OOD']['fpr95']\\n",
    "    \\n",
    "    auroc_gap = best_auroc - ch_auroc\\n",
    "    fpr_gap = ch_fpr - best_fpr\\n",
    "    \\n",
    "    report.append(f\\\"   - CH-OOD gaps: AUROC={auroc_gap:+.4f}, FPR@95%={fpr_gap:+.4f}\\\")\\n",
    "\\n",
    "report.append(\\\"\\\")\\n",
    "\\n",
    "# 5. Statistical Summary\\n",
    "report.append(\\\"5. STATISTICAL SUMMARY\\\")\\n",
    "report.append(\\\"-\\\" * 40)\\n",
    "\\n",
    "# Overall rankings\\n",
    "all_methods = list(results['SVHN'].keys())\\n",
    "rankings = {method: [] for method in all_methods}\\n",
    "\\n",
    "for ood_name in ['SVHN', 'CIFAR-100']:\\n",
    "    # Rank by AUROC (higher is better)\\n",
    "    sorted_methods = sorted(all_methods, \\n",
    "                           key=lambda m: results[ood_name][m]['auroc'], \\n",
    "                           reverse=True)\\n",
    "    for rank, method in enumerate(sorted_methods, 1):\\n",
    "        rankings[method].append(rank)\\n",
    "\\n",
    "report.append(\\\"\\\\n   Average Rankings (by AUROC):\\\")\\n",
    "avg_rankings = [(method, np.mean(ranks)) for method, ranks in rankings.items()]\\n",
    "avg_rankings.sort(key=lambda x: x[1])\\n",
    "\\n",
    "for rank, (method, avg_rank) in enumerate(avg_rankings, 1):\\n",
    "    report.append(f\\\"   {rank}. {method:15s}: {avg_rank:.1f}\\\")\\n",
    "\\n",
    "report.append(\\\"\\\")\\n",
    "\\n",
    "# 6. Key Observations\\n",
    "report.append(\\\"6. KEY OBSERVATIONS\\\")\\n",
    "report.append(\\\"-\\\" * 40)\\n",
    "\\n",
    "# Calculate some insights\\n",
    "ch_ood_avg_auroc = np.mean([results[d]['CH-OOD']['auroc'] for d in ['SVHN', 'CIFAR-100']])\\n",
    "energy_avg_auroc = np.mean([results[d]['Energy']['auroc'] for d in ['SVHN', 'CIFAR-100']])\\n",
    "\\n",
    "if ch_ood_avg_auroc > 0.90:\\n",
    "    report.append(\\\"   ✓ CH-OOD achieves strong performance (>0.90 avg AUROC)\\\")\\n",
    "if ch_ood_avg_auroc > energy_avg_auroc:\\n",
    "    report.append(\\\"   ✓ CH-OOD outperforms Energy baseline on average\\\")\\n",
    "\\n",
    "# Check consistency\\n",
    "ch_ood_std = np.std([results[d]['CH-OOD']['auroc'] for d in ['SVHN', 'CIFAR-100']])\\n",
    "if ch_ood_std < 0.05:\\n",
    "    report.append(\\\"   ✓ CH-OOD shows consistent performance across datasets (std < 0.05)\\\")\\n",
    "\\n",
    "report.append(\\\"\\\")\\n",
    "\\n",
    "# 7. Recommendations\\n",
    "report.append(\\\"7. RECOMMENDATIONS FOR PAPER\\\")\\n",
    "report.append(\\\"-\\\" * 40)\\n",
    "report.append(\\\"   • Emphasize geometric interpretability and theoretical guarantees\\\")\\n",
    "report.append(\\\"   • Note that CH-OOD provides conformal p-values for calibrated uncertainty\\\")\\n",
    "report.append(\\\"   • Consider ensemble with Energy/ODIN for production deployment\\\")\\n",
    "report.append(\\\"   • Highlight the method's efficiency: O(nmd) vs O(n^4) for CHV\\\")\\n",
    "\\n",
    "report.append(\\\"\\\")\\n",
    "report.append(\\\"=\\\"*70)\\n",
    "report.append(\\\"END OF REPORT\\\")\\n",
    "report.append(\\\"=\\\"*70)\\n",
    "\\n",
    "# Print the full report\\n",
    "full_report = \\\"\\\\n\\\".join(report)\\n",
    "print(full_report)\\n",
    "\\n",
    "# Save to file\\n",
    "with open('results/analysis_report.txt', 'w') as f:\\n",
    "    f.write(full_report)\\n",
    "\\n",
    "print(\\\"\\\\n✓ Report saved to results/analysis_report.txt\\\")\\n",
    "print(\\\"\\\\n\\\" + \\\"=\\\"*70)\\n",
    "print(\\\"COPY THE REPORT ABOVE FOR ANALYSIS\\\")\\n",
    "print(\\\"=\\\"*70)"
   ]
  },
  {
   "cell_type": "markdown",
   "metadata": {},
   "source": [
    "## 13. Download Results\\n",
    "\\n",
    "Package all results for download"
   ]
  },
  {
   "cell_type": "code",
   "execution_count": null,
   "metadata": {},
   "outputs": [],
   "source": [
    "# Create a zip file with all results\\n",
    "import zipfile\\n",
    "import os\\n",
    "\\n",
    "with zipfile.ZipFile('ch_ood_results.zip', 'w') as zipf:\\n",
    "    # Add results JSON\\n",
    "    if os.path.exists('results/deep_ood_results.json'):\\n",
    "        zipf.write('results/deep_ood_results.json')\\n",
    "    \\n",
    "    # Add all figures if any were saved\\n",
    "    if os.path.exists('figures'):\\n",
    "        for fig in os.listdir('figures'):\\n",
    "            if fig.endswith('.png'):\\n",
    "                zipf.write(f'figures/{fig}')\\n",
    "    \\n",
    "    # Add trained model if it exists\\n",
    "    if os.path.exists('models/cifar10_resnet18_best.pth'):\\n",
    "        zipf.write('models/cifar10_resnet18_best.pth')\\n",
    "\\n",
    "print(\\\"✓ Results packaged in ch_ood_results.zip\\\")\\n",
    "print(\\\"\\\\nTo download in Colab:\\\")\\n",
    "print(\\\"  1. Click the folder icon in the left sidebar\\\")\\n",
    "print(\\\"  2. Find ch_ood_results.zip\\\")\\n",
    "print(\\\"  3. Click the three dots and select 'Download'\\\")"
   ]
  },
  {
   "cell_type": "markdown",
   "metadata": {},
   "source": [
    "## Optional: Quick Test Run\\n",
    "\\n",
    "For testing purposes, run everything with minimal epochs"
   ]
  },
  {
   "cell_type": "code",
   "execution_count": null,
   "metadata": {},
   "outputs": [],
   "source": [
    "# Quick test with just 1 epoch (for debugging)\\n",
    "# Uncomment to run:\\n",
    "\\n",
    "# device = ch_ood_colab.setup_colab()\\n",
    "# model = ch_ood_colab.train_resnet_cifar10(device, epochs=1)  # Just 1 epoch\\n",
    "# results = ch_ood_colab.run_deep_ood_experiments(device, train_model=False)\\n",
    "# print(\\\"Quick test complete!\\\")"
   ]
  },
  {
   "cell_type": "markdown",
   "metadata": {},
   "source": [
    "## Citation\\n",
    "\\n",
    "If you use this code in your research, please cite:\\n",
    "\\n",
    "```bibtex\\n",
    "@article{shachar2025chood,\\n",
    "  title={Certified Geometric OOD via Directional Depth and Kubota Projection Sketches},\\n",
    "  author={Shachar, Amir},\\n",
    "  year={2025}\\n",
    "}\\n",
    "```"
   ]
  }
 ],
 "metadata": {
  "kernelspec": {
   "display_name": "Python 3",
   "language": "python",
   "name": "python3"
  },
  "language_info": {
   "codemirror_mode": {
    "name": "ipython",
    "version": 3
   },
   "file_extension": ".py",
   "mimetype": "text/x-python",
   "name": "python",
   "nbconvert_exporter": "python",
   "pygments_lexer": "ipython3",
   "version": "3.8.10"
  },
  "accelerator": "GPU"
 },
 "nbformat": 4,
 "nbformat_minor": 4
}