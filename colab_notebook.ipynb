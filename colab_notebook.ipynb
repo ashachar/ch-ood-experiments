{
  "nbformat": 4,
  "nbformat_minor": 0,
  "metadata": {
    "colab": {
      "name": "ch_ood_experiments.ipynb",
      "provenance": []
    },
    "kernelspec": {
      "name": "python3",
      "display_name": "Python 3"
    },
    "accelerator": "GPU"
  },
  "cells": [
    {
      "cell_type": "markdown",
      "metadata": {},
      "source": [
        "# CH-OOD Deep Learning Experiments\n",
        "\n",
        "This notebook runs deep OOD detection experiments for the paper:\n",
        "**Certified Geometric OOD via Directional Depth and Kubota Projection Sketches**\n",
        "\n",
        "## Expected Runtime on T4 GPU\n",
        "- **Total time**: ~45-60 minutes\n",
        "  - Model training: ~20-25 minutes\n",
        "  - Feature extraction: ~10-15 minutes\n",
        "  - OOD evaluation: ~15-20 minutes\n",
        "\n",
        "## Experiments\n",
        "- **ID Dataset**: CIFAR-10 (test set)\n",
        "- **OOD Datasets**: SVHN, CIFAR-100\n",
        "- **Methods**: CH-OOD (ours), Energy, ODIN, Mahalanobis\n",
        "- **Metrics**: AUROC, FPR@95%TPR"
      ]
    },
    {
      "cell_type": "markdown",
      "metadata": {},
      "source": [
        "## 1. Setup Environment"
      ]
    },
    {
      "cell_type": "code",
      "metadata": {},
      "execution_count": null,
      "outputs": [],
      "source": [
        "# Check GPU availability\n",
        "import torch\n",
        "if torch.cuda.is_available():\n",
        "    device = torch.device('cuda')\n",
        "    print(f'\u2713 GPU available: {torch.cuda.get_device_name(0)}')\n",
        "    print(f'  Memory: {torch.cuda.get_device_properties(0).total_memory / 1e9:.2f} GB')\n",
        "else:\n",
        "    print('\u26a0\ufe0f No GPU detected. Runtime will be slower.')\n",
        "    print('To enable GPU in Colab: Runtime \u2192 Change runtime type \u2192 Hardware accelerator \u2192 GPU (T4)')"
      ]
    },
    {
      "cell_type": "markdown",
      "metadata": {},
      "source": [
        "## 2. Install Dependencies"
      ]
    },
    {
      "cell_type": "code",
      "metadata": {},
      "execution_count": null,
      "outputs": [],
      "source": [
        "# Install required packages\n",
        "!pip install -q torch torchvision numpy scikit-learn matplotlib tqdm pandas"
      ]
    },
    {
      "cell_type": "markdown",
      "metadata": {},
      "source": [
        "## 3. Download Experiment Code"
      ]
    },
    {
      "cell_type": "code",
      "metadata": {},
      "execution_count": null,
      "outputs": [],
      "source": [
        "# Download the experiment code from GitHub\n",
        "!wget -q https://raw.githubusercontent.com/ashachar/ch-ood-experiments/main/ch_ood_colab.py\n",
        "print('\u2713 Experiment code downloaded')"
      ]
    },
    {
      "cell_type": "code",
      "metadata": {},
      "execution_count": null,
      "outputs": [],
      "source": [
        "# Import the experiment module\n",
        "import ch_ood_colab\n",
        "import importlib\n",
        "importlib.reload(ch_ood_colab)  # Reload in case of updates\n",
        "print('\u2713 Module imported successfully')"
      ]
    },
    {
      "cell_type": "markdown",
      "metadata": {},
      "source": [
        "## 4. Setup Directories and Device"
      ]
    },
    {
      "cell_type": "code",
      "metadata": {},
      "execution_count": null,
      "outputs": [],
      "source": [
        "# Create necessary directories and return device\n",
        "device = ch_ood_colab.setup_colab()\n",
        "print(f'\u2713 Setup complete. Using device: {device}')"
      ]
    },
    {
      "cell_type": "markdown",
      "metadata": {},
      "source": [
        "## 5. Train ResNet-18 on CIFAR-10\n",
        "\n",
        "This step trains a ResNet-18 model on CIFAR-10 for 30 epochs.\n",
        "- **Expected time**: ~20-25 minutes on T4 GPU\n",
        "- **Skip this cell** if you want to use a pre-trained model"
      ]
    },
    {
      "cell_type": "code",
      "metadata": {},
      "execution_count": null,
      "outputs": [],
      "source": [
        "# Train the model (set train_model=False to skip and use pre-trained)\n",
        "model = ch_ood_colab.train_resnet_cifar10(device, epochs=30)\n",
        "print('\\n\u2713 Model training complete')"
      ]
    },
    {
      "cell_type": "markdown",
      "metadata": {},
      "source": [
        "## 6. Load Datasets\n",
        "\n",
        "Load CIFAR-10 (ID) and OOD datasets (SVHN, CIFAR-100)"
      ]
    },
    {
      "cell_type": "code",
      "metadata": {},
      "execution_count": null,
      "outputs": [],
      "source": [
        "# Load all datasets\n",
        "print('Loading datasets...')\n",
        "loaders = ch_ood_colab.load_datasets()\n",
        "\n",
        "print('\\n\u2713 Datasets loaded:')\n",
        "print(f\"  - ID: CIFAR-10 (test set: {len(loaders['id_test'].dataset)} samples)\")\n",
        "print(f\"  - OOD: SVHN ({len(loaders['ood_svhn'].dataset)} samples)\")\n",
        "print(f\"  - OOD: CIFAR-100 ({len(loaders['ood_cifar100'].dataset)} samples)\")"
      ]
    },
    {
      "cell_type": "markdown",
      "metadata": {},
      "source": [
        "## 7. Extract Features\n",
        "\n",
        "Extract penultimate layer features for OOD detection\n",
        "- **Expected time**: ~10-15 minutes"
      ]
    },
    {
      "cell_type": "code",
      "metadata": {},
      "execution_count": null,
      "outputs": [],
      "source": [
        "# Load model if not already loaded\n",
        "if 'model' not in locals():\n",
        "    print('Loading pre-trained model...')\n",
        "    model = ch_ood_colab.load_model(device)\n",
        "\n",
        "# Extract features\n",
        "print('Extracting features...')\n",
        "features = ch_ood_colab.extract_features(model, loaders, device)\n",
        "\n",
        "print('\\n\u2713 Features extracted:')\n",
        "for key, feat in features.items():\n",
        "    print(f'  - {key}: shape {feat.shape}')"
      ]
    },
    {
      "cell_type": "markdown",
      "metadata": {},
      "source": [
        "## 8. Run OOD Detection Methods\n",
        "\n",
        "Evaluate multiple OOD detection methods:\n",
        "- CH-OOD (our method)\n",
        "- Energy-based\n",
        "- ODIN\n",
        "- Mahalanobis\n",
        "\n",
        "**Expected time**: ~15-20 minutes"
      ]
    },
    {
      "cell_type": "code",
      "metadata": {},
      "execution_count": null,
      "outputs": [],
      "source": [
        "# Run all OOD detection methods\n",
        "print('Running OOD detection methods...\\n')\n",
        "results = ch_ood_colab.evaluate_ood_methods(features, device)\n",
        "\n",
        "# Display results summary\n",
        "print('\\n' + '='*60)\n",
        "print('OOD Detection Results (AUROC / FPR@95%)')\n",
        "print('='*60)\n",
        "\n",
        "for ood_name in ['SVHN', 'CIFAR-100']:\n",
        "    print(f'\\n{ood_name}:')\n",
        "    for method in results[ood_name]:\n",
        "        auroc = results[ood_name][method]['auroc']\n",
        "        fpr95 = results[ood_name][method]['fpr95']\n",
        "        print(f'  {method:15s}: AUROC={auroc:.3f}, FPR@95%={fpr95:.3f}')"
      ]
    },
    {
      "cell_type": "markdown",
      "metadata": {},
      "source": [
        "## 9. Generate ROC Curves"
      ]
    },
    {
      "cell_type": "code",
      "metadata": {},
      "execution_count": null,
      "outputs": [],
      "source": [
        "# Plot ROC curves\n",
        "import matplotlib.pyplot as plt\n",
        "\n",
        "fig, axes = plt.subplots(1, 2, figsize=(12, 5))\n",
        "\n",
        "for idx, ood_name in enumerate(['SVHN', 'CIFAR-100']):\n",
        "    ax = axes[idx]\n",
        "    \n",
        "    for method in results[ood_name]:\n",
        "        fpr = results[ood_name][method]['fpr']\n",
        "        tpr = results[ood_name][method]['tpr']\n",
        "        auroc = results[ood_name][method]['auroc']\n",
        "        \n",
        "        ax.plot(fpr, tpr, label=f'{method} (AUROC={auroc:.3f})')\n",
        "    \n",
        "    ax.plot([0, 1], [0, 1], 'k--', alpha=0.3)\n",
        "    ax.set_xlabel('False Positive Rate')\n",
        "    ax.set_ylabel('True Positive Rate')\n",
        "    ax.set_title(f'CIFAR-10 (ID) vs {ood_name} (OOD)')\n",
        "    ax.legend(loc='lower right')\n",
        "    ax.grid(True, alpha=0.3)\n",
        "\n",
        "plt.tight_layout()\n",
        "plt.show()"
      ]
    },
    {
      "cell_type": "markdown",
      "metadata": {},
      "source": [
        "## 10. Create Summary Table"
      ]
    },
    {
      "cell_type": "code",
      "metadata": {},
      "execution_count": null,
      "outputs": [],
      "source": [
        "# Create a formatted summary table\n",
        "import pandas as pd\n",
        "import json\n",
        "\n",
        "# Prepare results for saving\n",
        "save_results = {}\n",
        "for ood_name in results:\n",
        "    save_results[ood_name] = {}\n",
        "    for method in results[ood_name]:\n",
        "        save_results[ood_name][method] = {\n",
        "            'auroc': float(results[ood_name][method]['auroc']),\n",
        "            'fpr95': float(results[ood_name][method]['fpr95'])\n",
        "        }\n",
        "\n",
        "# Create DataFrame\n",
        "data = []\n",
        "for ood_name in save_results:\n",
        "    for method in save_results[ood_name]:\n",
        "        data.append({\n",
        "            'OOD Dataset': ood_name,\n",
        "            'Method': method,\n",
        "            'AUROC': save_results[ood_name][method]['auroc'],\n",
        "            'FPR@95%': save_results[ood_name][method]['fpr95']\n",
        "        })\n",
        "\n",
        "df = pd.DataFrame(data)\n",
        "\n",
        "# Pivot tables\n",
        "print('\\n' + '='*50)\n",
        "print('AUROC Results')\n",
        "print('='*50)\n",
        "auroc_pivot = df.pivot(index='Method', columns='OOD Dataset', values='AUROC')\n",
        "print(auroc_pivot.round(3))\n",
        "\n",
        "print('\\n' + '='*50)\n",
        "print('FPR@95%TPR Results')\n",
        "print('='*50)\n",
        "fpr_pivot = df.pivot(index='Method', columns='OOD Dataset', values='FPR@95%')\n",
        "print(fpr_pivot.round(3))\n",
        "\n",
        "# Save results\n",
        "with open('results/deep_ood_results.json', 'w') as f:\n",
        "    json.dump(save_results, f, indent=2)\n",
        "print('\\n\u2713 Results saved to results/deep_ood_results.json')"
      ]
    },
    {
      "cell_type": "markdown",
      "metadata": {},
      "source": [
        "## 11. Generate Detailed Analysis Report\n",
        "\n",
        "Create a comprehensive report for analysis"
      ]
    },
    {
      "cell_type": "code",
      "metadata": {},
      "execution_count": null,
      "outputs": [],
      "source": [
        "# Generate comprehensive analysis report\n",
        "from datetime import datetime\n",
        "import numpy as np\n",
        "\n",
        "report = []\n",
        "report.append('='*70)\n",
        "report.append('CH-OOD EXPERIMENTAL RESULTS - DETAILED ANALYSIS REPORT')\n",
        "report.append('='*70)\n",
        "report.append(f\"Generated: {datetime.now().strftime('%Y-%m-%d %H:%M:%S')}\")\n",
        "report.append(f\"GPU: {torch.cuda.get_device_name(0) if torch.cuda.is_available() else 'CPU'}\")\n",
        "report.append('')\n",
        "\n",
        "# Dataset info\n",
        "report.append('1. DATASET SUMMARY')\n",
        "report.append('-' * 40)\n",
        "report.append(f\"   ID Dataset: CIFAR-10\")\n",
        "report.append(f\"   - Test samples: {len(loaders['id_test'].dataset)}\")\n",
        "report.append(f\"   OOD Datasets:\")\n",
        "report.append(f\"   - SVHN: {len(loaders['ood_svhn'].dataset)} samples\")\n",
        "report.append(f\"   - CIFAR-100: {len(loaders['ood_cifar100'].dataset)} samples\")\n",
        "report.append('')\n",
        "\n",
        "# Method results\n",
        "report.append('2. DETAILED RESULTS BY METHOD')\n",
        "report.append('-' * 40)\n",
        "\n",
        "for method in ['CH-OOD', 'Energy', 'ODIN', 'Mahalanobis']:\n",
        "    if method not in results['SVHN']:\n",
        "        continue\n",
        "    report.append(f'\\n   {method}:')\n",
        "    aurocs = []\n",
        "    fpr95s = []\n",
        "    for ood_name in ['SVHN', 'CIFAR-100']:\n",
        "        auroc = results[ood_name][method]['auroc']\n",
        "        fpr95 = results[ood_name][method]['fpr95']\n",
        "        aurocs.append(auroc)\n",
        "        fpr95s.append(fpr95)\n",
        "        report.append(f'   - vs {ood_name:12s}: AUROC={auroc:.4f}, FPR@95%={fpr95:.4f}')\n",
        "    report.append(f'   - Average AUROC: {np.mean(aurocs):.4f}')\n",
        "    report.append(f'   - Average FPR@95%: {np.mean(fpr95s):.4f}')\n",
        "\n",
        "report.append('')\n",
        "report.append('='*70)\n",
        "report.append('END OF REPORT')\n",
        "report.append('='*70)\n",
        "\n",
        "# Print the report\n",
        "full_report = '\\n'.join(report)\n",
        "print(full_report)\n",
        "\n",
        "# Save to file\n",
        "with open('results/analysis_report.txt', 'w') as f:\n",
        "    f.write(full_report)\n",
        "\n",
        "print('\\n\u2713 Report saved to results/analysis_report.txt')\n",
        "print('\\n' + '='*70)\n",
        "print('COPY THE REPORT ABOVE FOR ANALYSIS')\n",
        "print('='*70)"
      ]
    },
    {
      "cell_type": "markdown",
      "metadata": {},
      "source": [
        "## 12. Download Results"
      ]
    },
    {
      "cell_type": "code",
      "metadata": {},
      "execution_count": null,
      "outputs": [],
      "source": [
        "# Create zip file with results\n",
        "import zipfile\n",
        "import os\n",
        "\n",
        "with zipfile.ZipFile('ch_ood_results.zip', 'w') as zipf:\n",
        "    if os.path.exists('results/deep_ood_results.json'):\n",
        "        zipf.write('results/deep_ood_results.json')\n",
        "    if os.path.exists('results/analysis_report.txt'):\n",
        "        zipf.write('results/analysis_report.txt')\n",
        "    if os.path.exists('models/cifar10_resnet18_best.pth'):\n",
        "        zipf.write('models/cifar10_resnet18_best.pth')\n",
        "\n",
        "print('\u2713 Results packaged in ch_ood_results.zip')\n",
        "print('\\nTo download in Colab:')\n",
        "print('  1. Click the folder icon in the left sidebar')\n",
        "print('  2. Find ch_ood_results.zip')\n",
        "print('  3. Click the three dots and select Download')"
      ]
    }
  ]
}