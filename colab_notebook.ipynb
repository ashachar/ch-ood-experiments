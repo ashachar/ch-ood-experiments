{
 "cells": [
  {
   "cell_type": "markdown",
   "metadata": {},
   "source": [
    "# CH-OOD Deep Learning Experiments\\n",
    "\\n",
    "This notebook runs the deep OOD detection experiments for the paper:\\n",
    "**Certified Geometric OOD via Directional Depth and Kubota Projection Sketches**\\n",
    "\\n",
    "## Expected Runtime on T4 GPU\\n",
    "- **Total time**: ~45-60 minutes\\n",
    "  - Model training: ~20-25 minutes\\n",
    "  - Feature extraction: ~10-15 minutes\\n",
    "  - OOD evaluation: ~15-20 minutes\\n",
    "\\n",
    "## Experiments\\n",
    "- **ID Dataset**: CIFAR-10 (test set)\\n",
    "- **OOD Datasets**: SVHN, CIFAR-100\\n",
    "- **Methods**: CH-OOD (ours), Energy, ODIN, Mahalanobis\\n",
    "- **Metrics**: AUROC, FPR@95%TPR"
   ]
  },
  {
   "cell_type": "markdown",
   "metadata": {},
   "source": [
    "## Setup Environment"
   ]
  },
  {
   "cell_type": "code",
   "execution_count": null,
   "metadata": {},
   "outputs": [],
   "source": [
    "# Check GPU availability\n",
    "import torch\n",
    "if torch.cuda.is_available():\n",
    "    device = torch.device('cuda')\n",
    "    print(f\"✓ GPU available: {torch.cuda.get_device_name(0)}\")\n",
    "    print(f\"  Memory: {torch.cuda.get_device_properties(0).total_memory / 1e9:.2f} GB\")\n",
    "else:\n",
    "    print(\"⚠️ No GPU detected. Runtime will be slower.\")\n",
    "    print(\"To enable GPU in Colab: Runtime → Change runtime type → Hardware accelerator → GPU (T4)\")"
   ]
  },
  {
   "cell_type": "markdown",
   "metadata": {},
   "source": [
    "## Install Dependencies"
   ]
  },
  {
   "cell_type": "code",
   "execution_count": null,
   "metadata": {},
   "outputs": [],
   "source": [
    "# Install required packages (if not in Colab, these should already be available)\n",
    "!pip install -q torch torchvision numpy scikit-learn matplotlib"
   ]
  },
  {
   "cell_type": "markdown",
   "metadata": {},
   "source": [
    "## Load Experiment Code"
   ]
  },
  {
   "cell_type": "code",
   "execution_count": null,
   "metadata": {},
   "outputs": [],
   "source": [
    "# Download the experiment code\n",
    "!wget -q https://raw.githubusercontent.com/ashachar/ch-ood-experiments/main/ch_ood_colab.py\n",
    "print(\"✓ Experiment code downloaded\")"
   ]
  },
  {
   "cell_type": "code",
   "execution_count": null,
   "metadata": {},
   "outputs": [],
   "source": [
    "# Import the experiment module\n",
    "import ch_ood_colab\n",
    "import importlib\n",
    "importlib.reload(ch_ood_colab)  # Reload in case of updates"
   ]
  },
  {
   "cell_type": "markdown",
   "metadata": {},
   "source": [
    "## Run Experiments"
   ]
  },
  {
   "cell_type": "code",
   "execution_count": null,
   "metadata": {},
   "outputs": [],
   "source": [
    "# Setup directories and device\n",
    "device = ch_ood_colab.setup_colab()"
   ]
  },
  {
   "cell_type": "markdown",
   "metadata": {},
   "source": [
    "### Option 1: Run Complete Pipeline (Recommended)\n",
    "This will train the model and run all OOD experiments."
   ]
  },
  {
   "cell_type": "code",
   "execution_count": null,
   "metadata": {},
   "outputs": [],
   "source": [
    "# Run full experiments (train model + evaluate OOD)\n",
    "# Expected time: ~45-60 minutes on T4 GPU\n",
    "results = ch_ood_colab.run_deep_ood_experiments(device, train_model=True)"
   ]
  },
  {
   "cell_type": "markdown",
   "metadata": {},
   "source": [
    "### Option 2: Quick Test (Skip Training)\n",
    "Use a pre-trained model if available."
   ]
  },
  {
   "cell_type": "code",
   "execution_count": null,
   "metadata": {},
   "outputs": [],
   "source": [
    "# Quick test with pre-trained model (if available)\n",
    "# results = ch_ood_colab.run_deep_ood_experiments(device, train_model=False)"
   ]
  },
  {
   "cell_type": "markdown",
   "metadata": {},
   "source": [
    "## View Results"
   ]
  },
  {
   "cell_type": "code",
   "execution_count": null,
   "metadata": {},
   "outputs": [],
   "source": [
    "# Display summary table\n",
    "import json\n",
    "import pandas as pd\n",
    "\n",
    "# Load results\n",
    "with open('results/deep_ood_results.json', 'r') as f:\n",
    "    results = json.load(f)\n",
    "\n",
    "# Create summary DataFrame\n",
    "summary_data = []\n",
    "for ood_name, methods in results.items():\n",
    "    for method_name, metrics in methods.items():\n",
    "        summary_data.append({\n",
    "            'OOD Dataset': ood_name,\n",
    "            'Method': method_name,\n",
    "            'AUROC': f\"{metrics['auroc']:.3f}\",\n",
    "            'FPR@95%': f\"{metrics['fpr95']:.3f}\"\n",
    "        })\n",
    "\n",
    "df = pd.DataFrame(summary_data)\n",
    "pivot_auroc = df.pivot(index='Method', columns='OOD Dataset', values='AUROC')\n",
    "pivot_fpr = df.pivot(index='Method', columns='OOD Dataset', values='FPR@95%')\n",
    "\n",
    "print(\"\\n\" + \"=\"*50)\n",
    "print(\"AUROC Results\")\n",
    "print(\"=\"*50)\n",
    "print(pivot_auroc)\n",
    "\n",
    "print(\"\\n\" + \"=\"*50)\n",
    "print(\"FPR@95%TPR Results\")\n",
    "print(\"=\"*50)\n",
    "print(pivot_fpr)"
   ]
  },
  {
   "cell_type": "markdown",
   "metadata": {},
   "source": [
    "## Display ROC Curves"
   ]
  },
  {
   "cell_type": "code",
   "execution_count": null,
   "metadata": {},
   "outputs": [],
   "source": [
    "# Display generated ROC curves\n",
    "from IPython.display import Image, display\n",
    "import os\n",
    "\n",
    "# List all generated figures\n",
    "figures = [f for f in os.listdir('figures') if f.endswith('.png')]\n",
    "\n",
    "for fig in figures:\n",
    "    print(f\"\\n{fig}:\")\n",
    "    display(Image(f'figures/{fig}'))"
   ]
  },
  {
   "cell_type": "markdown",
   "metadata": {},
   "source": [
    "## Download Results\n",
    "\n",
    "To download the results and figures:"
   ]
  },
  {
   "cell_type": "code",
   "execution_count": null,
   "metadata": {},
   "outputs": [],
   "source": [
    "# Create a zip file with all results\n",
    "import zipfile\n",
    "import os\n",
    "\n",
    "with zipfile.ZipFile('ch_ood_results.zip', 'w') as zipf:\n",
    "    # Add results JSON\n",
    "    zipf.write('results/deep_ood_results.json')\n",
    "    \n",
    "    # Add all figures\n",
    "    for fig in os.listdir('figures'):\n",
    "        if fig.endswith('.png'):\n",
    "            zipf.write(f'figures/{fig}')\n",
    "    \n",
    "    # Add trained model if it exists\n",
    "    if os.path.exists('models/cifar10_resnet18_best.pth'):\n",
    "        zipf.write('models/cifar10_resnet18_best.pth')\n",
    "\n",
    "print(\"✓ Results packaged in ch_ood_results.zip\")\n",
    "print(\"Download this file to save your results.\")"
   ]
  },
  {
   "cell_type": "markdown",
   "metadata": {},
   "source": [
    "## Ablation Studies"
   ]
  },
  {
   "cell_type": "code",
   "execution_count": null,
   "metadata": {},
   "outputs": [],
   "source": [
    "# Optional: Run ablation studies on hyperparameters\n",
    "# This section can be used to test different values of alpha, m, etc.\n",
    "\n",
    "# Example: Test different alpha values for CH-OOD\n",
    "import numpy as np\n",
    "import matplotlib.pyplot as plt\n",
    "\n",
    "# Load features (assuming they're already extracted)\n",
    "# alphas = [0.03, 0.05, 0.08, 0.10, 0.12, 0.15]\n",
    "# results_by_alpha = []\n",
    "\n",
    "# for alpha in alphas:\n",
    "#     ch_ood = ch_ood_colab.HadwigerSoft.fit(features_id_cal, target_fpr=0.05, alpha=alpha)\n",
    "#     scores_id = ch_ood.scores(features_id_test)[2]\n",
    "#     scores_ood = ch_ood.scores(features_ood)[2]\n",
    "#     auroc, _, _, _ = ch_ood_colab.compute_metrics(scores_ood, scores_id)\n",
    "#     results_by_alpha.append(auroc)\n",
    "\n",
    "# plt.figure(figsize=(8, 5))\n",
    "# plt.plot(alphas, results_by_alpha, 'o-')\n",
    "# plt.xlabel('Alpha')\n",
    "# plt.ylabel('AUROC')\n",
    "# plt.title('AUROC vs Alpha Parameter')\n",
    "# plt.grid(True, alpha=0.3)\n",
    "# plt.show()"
   ]
  },
  {
   "cell_type": "markdown",
   "metadata": {},
   "source": [
    "## Citation\n",
    "\n",
    "If you use this code in your research, please cite:\n",
    "\n",
    "```bibtex\n",
    "@article{shachar2025chood,\n",
    "  title={Certified Geometric OOD via Directional Depth and Kubota Projection Sketches},\n",
    "  author={Shachar, Amir},\n",
    "  year={2025}\n",
    "}\n",
    "```"
   ]
  }
 ],
 "metadata": {
  "kernelspec": {
   "display_name": "Python 3",
   "language": "python",
   "name": "python3"
  },
  "language_info": {
   "codemirror_mode": {
    "name": "ipython",
    "version": 3
   },
   "file_extension": ".py",
   "mimetype": "text/x-python",
   "name": "python",
   "nbconvert_exporter": "python",
   "pygments_lexer": "ipython3",
   "version": "3.8.0"
  }
 },
 "nbformat": 4,
 "nbformat_minor": 4
}